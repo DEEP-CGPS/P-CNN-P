{
  "nbformat": 4,
  "nbformat_minor": 0,
  "metadata": {
    "colab": {
      "name": "Pruning-CNN-Pytorch.ipynb",
      "provenance": [],
      "collapsed_sections": [],
      "include_colab_link": true
    },
    "kernelspec": {
      "name": "python3",
      "display_name": "Python 3"
    },
    "accelerator": "GPU"
  },
  "cells": [
    {
      "cell_type": "markdown",
      "metadata": {
        "id": "view-in-github",
        "colab_type": "text"
      },
      "source": [
        "<a href=\"https://colab.research.google.com/github/DEEP-CGPS/P-CNN-P/blob/master/Pruning_CNN_Pytorch.ipynb\" target=\"_parent\"><img src=\"https://colab.research.google.com/assets/colab-badge.svg\" alt=\"Open In Colab\"/></a>"
      ]
    },
    {
      "cell_type": "markdown",
      "metadata": {
        "id": "c8m9uBRz0owX"
      },
      "source": [
        "**AUTHOR:**\n",
        "\n",
        "*   Cesar Giovany Pachon Suescun\n",
        "*   Dora Maria Ballesteros Larrotta\n",
        "*   Diego Renza Torres\n",
        "\n",
        "**INSTITUTION:** Universidad Militar Nueva Granada\n"
      ]
    },
    {
      "cell_type": "markdown",
      "metadata": {
        "id": "s3g_Xdm8sVGP"
      },
      "source": [
        "First, the libraries needed for the execution of the algorithm are imported"
      ]
    },
    {
      "cell_type": "code",
      "metadata": {
        "id": "h8aG3E1gJnOM"
      },
      "source": [
        "from torch import nn\n",
        "import torch.nn.utils.prune as prune\n",
        "import torch\n",
        "from torchsummary import summary"
      ],
      "execution_count": null,
      "outputs": []
    },
    {
      "cell_type": "markdown",
      "metadata": {
        "id": "pm7W_n6Usw5g"
      },
      "source": [
        "Then the class of the model is defined, which must correspond to a sequential CNN, in this case is the presented in the paper."
      ]
    },
    {
      "cell_type": "code",
      "metadata": {
        "id": "58wF1c9FIdLH"
      },
      "source": [
        "class Net(nn.Module):\n",
        "    def __init__(self, num_classes=13):\n",
        "        super(Net, self).__init__()\n",
        "        self.features = nn.Sequential(\n",
        "            nn.Conv2d(3, 64, kernel_size=11, stride=4, padding=2),\n",
        "            nn.ReLU(inplace=True),\n",
        "            nn.MaxPool2d(kernel_size=3, stride=2),\n",
        "            nn.Conv2d(64, 192, kernel_size=5, padding=2),\n",
        "            nn.ReLU(inplace=True),\n",
        "            nn.MaxPool2d(kernel_size=3, stride=2),\n",
        "            nn.Conv2d(192, 384, kernel_size=3, padding=1),\n",
        "            nn.ReLU(inplace=True),\n",
        "            nn.Conv2d(384, 256, kernel_size=3, padding=1),\n",
        "            nn.ReLU(inplace=True),\n",
        "            nn.Conv2d(256, 256, kernel_size=3, padding=1),\n",
        "            nn.ReLU(inplace=True),\n",
        "            nn.MaxPool2d(kernel_size=3, stride=2),\n",
        "        )\n",
        "        self.avgpool = nn.AdaptiveAvgPool2d((6, 6))\n",
        "        self.classifier = nn.Sequential(\n",
        "            nn.Dropout(),\n",
        "            nn.Linear(256 * 6 * 6, 512),\n",
        "            nn.ReLU(inplace=True),\n",
        "            nn.Dropout(),\n",
        "            nn.Linear(512, 512),\n",
        "            nn.ReLU(inplace=True),\n",
        "            nn.Linear(512, num_classes),\n",
        "        )\n",
        "\n",
        "    def forward(self, x):\n",
        "        x = self.features(x)\n",
        "        x = self.avgpool(x)\n",
        "        x = x.view(-1, int(x.nelement() / x.shape[0]))\n",
        "        x = self.classifier(x)\n",
        "        return x"
      ],
      "execution_count": null,
      "outputs": []
    },
    {
      "cell_type": "markdown",
      "metadata": {
        "id": "ihnmQX-wymM8"
      },
      "source": [
        "If you want to load an already trained CNN you can load it with the following code, otherwise do not execute the next line."
      ]
    },
    {
      "cell_type": "code",
      "metadata": {
        "id": "d7YMSIIxyl67"
      },
      "source": [
        "new_model=torch.load('NetName.pth')\n",
        "new_model.eval()"
      ],
      "execution_count": null,
      "outputs": []
    },
    {
      "cell_type": "markdown",
      "metadata": {
        "id": "mBmAzKzAs919"
      },
      "source": [
        "The device the network will be on (GPU or CPU) is set"
      ]
    },
    {
      "cell_type": "code",
      "metadata": {
        "id": "yf6rFYXgIe9X"
      },
      "source": [
        "device = torch.device(\"cuda:0\" if torch.cuda.is_available() else \"cpu\")"
      ],
      "execution_count": null,
      "outputs": []
    },
    {
      "cell_type": "markdown",
      "metadata": {
        "id": "DZK-zoWitPIz"
      },
      "source": [
        "The number of network parameters is visualized without pruning."
      ]
    },
    {
      "cell_type": "code",
      "metadata": {
        "id": "gQoL-Ge1ueQH",
        "outputId": "36b008ae-2fa1-4e5b-9048-67fad8a1ebb2",
        "colab": {
          "base_uri": "https://localhost:8080/",
          "height": 602
        }
      },
      "source": [
        "new_model=Net().to(device)#in case you have created the network with the class.\n",
        "#new_model=new_model.to(device) # Comment out the previous line and uncomment it in case a network has been loaded.\n",
        "print(summary(new_model,(3,224,224)))"
      ],
      "execution_count": null,
      "outputs": [
        {
          "output_type": "stream",
          "text": [
            "----------------------------------------------------------------\n",
            "        Layer (type)               Output Shape         Param #\n",
            "================================================================\n",
            "            Conv2d-1           [-1, 64, 55, 55]          23,296\n",
            "              ReLU-2           [-1, 64, 55, 55]               0\n",
            "         MaxPool2d-3           [-1, 64, 27, 27]               0\n",
            "            Conv2d-4          [-1, 192, 27, 27]         307,392\n",
            "              ReLU-5          [-1, 192, 27, 27]               0\n",
            "         MaxPool2d-6          [-1, 192, 13, 13]               0\n",
            "            Conv2d-7          [-1, 384, 13, 13]         663,936\n",
            "              ReLU-8          [-1, 384, 13, 13]               0\n",
            "            Conv2d-9          [-1, 256, 13, 13]         884,992\n",
            "             ReLU-10          [-1, 256, 13, 13]               0\n",
            "           Conv2d-11          [-1, 256, 13, 13]         590,080\n",
            "             ReLU-12          [-1, 256, 13, 13]               0\n",
            "        MaxPool2d-13            [-1, 256, 6, 6]               0\n",
            "AdaptiveAvgPool2d-14            [-1, 256, 6, 6]               0\n",
            "          Dropout-15                 [-1, 9216]               0\n",
            "           Linear-16                  [-1, 512]       4,719,104\n",
            "             ReLU-17                  [-1, 512]               0\n",
            "          Dropout-18                  [-1, 512]               0\n",
            "           Linear-19                  [-1, 512]         262,656\n",
            "             ReLU-20                  [-1, 512]               0\n",
            "           Linear-21                   [-1, 13]           6,669\n",
            "================================================================\n",
            "Total params: 7,458,125\n",
            "Trainable params: 7,458,125\n",
            "Non-trainable params: 0\n",
            "----------------------------------------------------------------\n",
            "Input size (MB): 0.57\n",
            "Forward/backward pass size (MB): 8.23\n",
            "Params size (MB): 28.45\n",
            "Estimated Total Size (MB): 37.26\n",
            "----------------------------------------------------------------\n",
            "None\n"
          ],
          "name": "stdout"
        }
      ]
    },
    {
      "cell_type": "markdown",
      "metadata": {
        "id": "qmLQfXNBtYpT"
      },
      "source": [
        "4 functions are established, which allow the restructuring of the network during pruning in the convolution and fully connected layers"
      ]
    },
    {
      "cell_type": "code",
      "metadata": {
        "id": "aOL7bKVVJu8L"
      },
      "source": [
        "def RESconv(module):\n",
        "  clist=[]\n",
        "  dw=len(module.weight)\n",
        "  for i in range(0,len(module.weight)): \n",
        "    x=module.weight[i]\n",
        "    y=module.bias[i]\n",
        "    value = 0\n",
        "    x = x[x.sum()!=value]\n",
        "    a,b,c,d=x.size()\n",
        "    if a==0:\n",
        "      clist.append(i)\n",
        "      dw=dw-1\n",
        "      module.bias[i]=0\n",
        "    if i>=1 and a!=0:\n",
        "      x=torch.cat([xan,x])\n",
        "      xan=x\n",
        "    if i==0:\n",
        "      xan=x\n",
        "  value=0\n",
        "  y=module.bias[:]\n",
        "  y = y[y!=value]\n",
        "  return xan,y,dw,clist\n",
        "\n",
        "def CerosConv(module,clist,dw):\n",
        "  module.in_channels=dw\n",
        "  for i in range(0,len(module.weight[:])):\n",
        "      y=module.weight[i][:]\n",
        "      for j in clist:\n",
        "          y[j]=0\n",
        "      for k in range(0,len(y)): \n",
        "          x=y[k]\n",
        "          value = 0\n",
        "          x = x[x.sum()!=value]\n",
        "          a,b,c=x.size()\n",
        "          if k>=1 and a!=0:\n",
        "            x=torch.cat([xan,x])\n",
        "            xan=x\n",
        "          if k==0:\n",
        "            xan=x\n",
        "      if i==0:    \n",
        "          nx=xan.unsqueeze(0)\n",
        "      else:\n",
        "          nx=torch.cat([nx,xan.unsqueeze(0)])\n",
        "  return nx\n",
        "\n",
        "def RESFC(module):\n",
        "  clist=[]\n",
        "  dw=len(module.weight)\n",
        "  for i in range(0,len(module.weight)): \n",
        "    x=module.weight[i]\n",
        "    y=module.bias[i]\n",
        "    value = 0\n",
        "    x = x[x.sum()!=value]\n",
        "    a,b=x.size()\n",
        "    if a==0:\n",
        "      clist.append(i)\n",
        "      dw=dw-1\n",
        "      module.bias[i]=0\n",
        "    if i==0:    \n",
        "      nx=x\n",
        "    else:\n",
        "      nx=torch.cat([nx,x])\n",
        "  value=0\n",
        "  y=module.bias[:]\n",
        "  y = y[y!=value]\n",
        "  return nx,y,dw,clist\n",
        "\n",
        "def CerosFC(module,clist,imdfc1,fc1):\n",
        "  nclist=[]\n",
        "  if fc1==1:\n",
        "    dim=imdfc1*imdfc1\n",
        "    for i in range(0,len(clist)):\n",
        "      inp=clist[i]*dim\n",
        "      enp=inp+dim\n",
        "      listprev=list(range(inp,enp))\n",
        "      for j in listprev:\n",
        "        nclist.append(j)\n",
        "  else:\n",
        "    nclist=clist\n",
        "  for i in range(0,len(module.weight[:])):\n",
        "    y=module.weight[i][:]\n",
        "    for j in nclist:\n",
        "      y[j]=0\n",
        "    x=y\n",
        "    value = 0\n",
        "    x = x[x !=value]\n",
        "    if i==0:    \n",
        "        nx=x.unsqueeze(0)\n",
        "    else:\n",
        "        nx=torch.cat([nx,x.unsqueeze(0)])\n",
        "  return nx"
      ],
      "execution_count": null,
      "outputs": []
    },
    {
      "cell_type": "markdown",
      "metadata": {
        "id": "VOP6WISXuFHI"
      },
      "source": [
        "In this stage, the L2 norm is used to carry out pruning in all the layers of the CNN, and this process is supported by the functions previously created for the restructuring stage of the CNN in each layer."
      ]
    },
    {
      "cell_type": "code",
      "metadata": {
        "id": "ASnj-CEHKn5-"
      },
      "source": [
        "imdfc1=6 #this value must be modified with the image dimension before applying the flattening\n",
        "dl=0\n",
        "dln=0\n",
        "cont=0\n",
        "for name, module in new_model.named_modules():\n",
        "  dl+=1\n",
        "print(dl)\n",
        "\n",
        "pp=0.8 #here is established the % of pruning, for example, 0.8 = 80%\n",
        "\n",
        "for name, module in new_model.named_modules():\n",
        "  if isinstance(module, torch.nn.Conv2d):\n",
        "    if cont==1:\n",
        "      nx=CerosConv(module,clist,dw)\n",
        "      module.weight=nn.Parameter(nx) \n",
        "    clist=[]    \n",
        "    prune.ln_structured(module, name=\"weight\", amount=pp, n=2, dim=0)\n",
        "    prune.remove(module, 'weight')\n",
        "    print(list(module.named_parameters()))\n",
        "    xan,y,dw,clist=RESconv(module)\n",
        "    module.out_channels=dw\n",
        "    module.weight=nn.Parameter(xan)\n",
        "    module.bias=nn.Parameter(y)\n",
        "    cont=1\n",
        "  if isinstance(module, torch.nn.Linear) and cont==1:\n",
        "    module.in_features=dw*imdfc1*imdfc1\n",
        "    nx=CerosFC(module,clist,imdfc1,1)\n",
        "    module.weight=nn.Parameter(nx)\n",
        "    cont=2\n",
        "\n",
        "cont=0\n",
        "for name, module in new_model.named_modules():\n",
        "  dln+=1\n",
        "  if isinstance(module, torch.nn.Linear):\n",
        "    if cont==1:\n",
        "      module.in_features=dw\n",
        "      nx=CerosFC(module,clist,imdfc1,0)\n",
        "      module.weight=nn.Parameter(nx)\n",
        "    if dln<dl:\n",
        "      prune.ln_structured(module, name=\"weight\", amount=pp, n=2, dim=0)\n",
        "      prune.remove(module, 'weight')\n",
        "      nx,y,dw,clist=RESFC(module)\n",
        "      module.out_features=dw\n",
        "      module.weight=nn.Parameter(nx)\n",
        "      module.bias=nn.Parameter(y)\n",
        "      cont=1"
      ],
      "execution_count": null,
      "outputs": []
    },
    {
      "cell_type": "markdown",
      "metadata": {
        "id": "57F9qEOVwAUk"
      },
      "source": [
        "The number of network parameters is shown again, identifying that there was indeed a pruning and restructuring of the network."
      ]
    },
    {
      "cell_type": "code",
      "metadata": {
        "id": "fB-yQqoKKuJp",
        "outputId": "3f06e8a0-dd01-456c-803b-e39d37467b05",
        "colab": {
          "base_uri": "https://localhost:8080/",
          "height": 602
        }
      },
      "source": [
        "print(summary(new_model,(3,224,224)))"
      ],
      "execution_count": null,
      "outputs": [
        {
          "output_type": "stream",
          "text": [
            "----------------------------------------------------------------\n",
            "        Layer (type)               Output Shape         Param #\n",
            "================================================================\n",
            "            Conv2d-1           [-1, 13, 55, 55]           4,732\n",
            "              ReLU-2           [-1, 13, 55, 55]               0\n",
            "         MaxPool2d-3           [-1, 13, 27, 27]               0\n",
            "            Conv2d-4           [-1, 38, 27, 27]          12,388\n",
            "              ReLU-5           [-1, 38, 27, 27]               0\n",
            "         MaxPool2d-6           [-1, 38, 13, 13]               0\n",
            "            Conv2d-7           [-1, 77, 13, 13]          26,411\n",
            "              ReLU-8           [-1, 77, 13, 13]               0\n",
            "            Conv2d-9           [-1, 51, 13, 13]          35,394\n",
            "             ReLU-10           [-1, 51, 13, 13]               0\n",
            "           Conv2d-11           [-1, 51, 13, 13]          23,460\n",
            "             ReLU-12           [-1, 51, 13, 13]               0\n",
            "        MaxPool2d-13             [-1, 51, 6, 6]               0\n",
            "AdaptiveAvgPool2d-14             [-1, 51, 6, 6]               0\n",
            "          Dropout-15                 [-1, 1836]               0\n",
            "           Linear-16                  [-1, 102]         187,374\n",
            "             ReLU-17                  [-1, 102]               0\n",
            "          Dropout-18                  [-1, 102]               0\n",
            "           Linear-19                  [-1, 102]          10,506\n",
            "             ReLU-20                  [-1, 102]               0\n",
            "           Linear-21                   [-1, 13]           1,339\n",
            "================================================================\n",
            "Total params: 301,604\n",
            "Trainable params: 301,604\n",
            "Non-trainable params: 0\n",
            "----------------------------------------------------------------\n",
            "Input size (MB): 0.57\n",
            "Forward/backward pass size (MB): 1.65\n",
            "Params size (MB): 1.15\n",
            "Estimated Total Size (MB): 3.38\n",
            "----------------------------------------------------------------\n",
            "None\n"
          ],
          "name": "stdout"
        }
      ]
    },
    {
      "cell_type": "markdown",
      "metadata": {
        "id": "M3_r3xreydcP"
      },
      "source": [
        "The network is saved for use."
      ]
    },
    {
      "cell_type": "code",
      "metadata": {
        "id": "sU6aDNLpLtoP"
      },
      "source": [
        "torch.save(new_model,'New_Net_pruning.pth')"
      ],
      "execution_count": null,
      "outputs": []
    }
  ]
}